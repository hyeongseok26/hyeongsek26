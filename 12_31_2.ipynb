{
  "nbformat": 4,
  "nbformat_minor": 0,
  "metadata": {
    "colab": {
      "name": "12_31_2.ipynb",
      "provenance": [],
      "include_colab_link": true
    },
    "kernelspec": {
      "name": "python3",
      "display_name": "Python 3"
    }
  },
  "cells": [
    {
      "cell_type": "markdown",
      "metadata": {
        "id": "view-in-github",
        "colab_type": "text"
      },
      "source": [
        "<a href=\"https://colab.research.google.com/github/hyeongseok26/hyeongsek26/blob/master/12_31_2.ipynb\" target=\"_parent\"><img src=\"https://colab.research.google.com/assets/colab-badge.svg\" alt=\"Open In Colab\"/></a>"
      ]
    },
    {
      "cell_type": "code",
      "metadata": {
        "id": "SabLGGmWlwCl",
        "colab_type": "code",
        "colab": {}
      },
      "source": [
        "def calc(a,para,b):\n",
        "    if para == '+':\n",
        "        sol = a + b\n",
        "        print('calc',a,para,b,'=',sol)\n",
        "    elif para == '-':\n",
        "        sol = a - b\n",
        "        print('calc',a,para,b,'=',sol)\n",
        "    elif para == '*':\n",
        "        sol = a * b\n",
        "        print('calc',a,para,b,'=',sol)\n",
        "    elif para == '/':\n",
        "        if b == 0:\n",
        "            print(\"error\")\n",
        "        else:\n",
        "            sol = a / b\n",
        "            print('calc',a,para,b,'=',sol)\n",
        "    else:\n",
        "      print('Invaild parameter')"
      ],
      "execution_count": 0,
      "outputs": []
    },
    {
      "cell_type": "code",
      "metadata": {
        "id": "ifUSSTm50Iy7",
        "colab_type": "code",
        "outputId": "d01f7ff6-9069-4081-db99-73d6383a310b",
        "colab": {
          "base_uri": "https://localhost:8080/",
          "height": 35
        }
      },
      "source": [
        "calc(32,'+',56)"
      ],
      "execution_count": 41,
      "outputs": [
        {
          "output_type": "stream",
          "text": [
            "calc 32 + 56 = 88\n"
          ],
          "name": "stdout"
        }
      ]
    },
    {
      "cell_type": "code",
      "metadata": {
        "id": "U-numwNO3RID",
        "colab_type": "code",
        "colab": {
          "base_uri": "https://localhost:8080/",
          "height": 35
        },
        "outputId": "51cbd256-c11d-4a9f-bea9-54ca88534058"
      },
      "source": [
        "calc(32,'/',0)"
      ],
      "execution_count": 42,
      "outputs": [
        {
          "output_type": "stream",
          "text": [
            "error\n"
          ],
          "name": "stdout"
        }
      ]
    },
    {
      "cell_type": "code",
      "metadata": {
        "id": "fLckWBjr0Nu9",
        "colab_type": "code",
        "colab": {
          "base_uri": "https://localhost:8080/",
          "height": 35
        },
        "outputId": "01daa86d-d78d-4533-e1c8-078267660add"
      },
      "source": [
        "calc(32,'_',12)"
      ],
      "execution_count": 43,
      "outputs": [
        {
          "output_type": "stream",
          "text": [
            "Invaild parameter\n"
          ],
          "name": "stdout"
        }
      ]
    },
    {
      "cell_type": "code",
      "metadata": {
        "id": "8BZZDtfV4YTy",
        "colab_type": "code",
        "colab": {
          "base_uri": "https://localhost:8080/",
          "height": 35
        },
        "outputId": "5cba218c-3fab-4906-96bb-800a8fb5da62"
      },
      "source": [
        "\n",
        "a = '%s %c %f'%('kim','c',5.599)\n",
        "print (a)"
      ],
      "execution_count": 45,
      "outputs": [
        {
          "output_type": "stream",
          "text": [
            "kim c 5.599000\n"
          ],
          "name": "stdout"
        }
      ]
    },
    {
      "cell_type": "code",
      "metadata": {
        "id": "A4gUT_DG4tkX",
        "colab_type": "code",
        "colab": {}
      },
      "source": [
        ""
      ],
      "execution_count": 0,
      "outputs": []
    }
  ]
}